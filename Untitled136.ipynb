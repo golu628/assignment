{
  "nbformat": 4,
  "nbformat_minor": 0,
  "metadata": {
    "colab": {
      "provenance": [],
      "authorship_tag": "ABX9TyPnBnSfmQDiS6rbtMjcZB68",
      "include_colab_link": true
    },
    "kernelspec": {
      "name": "python3",
      "display_name": "Python 3"
    },
    "language_info": {
      "name": "python"
    }
  },
  "cells": [
    {
      "cell_type": "markdown",
      "metadata": {
        "id": "view-in-github",
        "colab_type": "text"
      },
      "source": [
        "<a href=\"https://colab.research.google.com/github/golu628/assignment/blob/main/Untitled136.ipynb\" target=\"_parent\"><img src=\"https://colab.research.google.com/assets/colab-badge.svg\" alt=\"Open In Colab\"/></a>"
      ]
    },
    {
      "cell_type": "code",
      "execution_count": null,
      "metadata": {
        "id": "W8WUoLL1GPCi"
      },
      "outputs": [],
      "source": []
    },
    {
      "cell_type": "markdown",
      "source": [
        "✅ Q1. Load Titanic dataset & plot scatter using Plotly Express\n",
        "python\n",
        "Copy\n",
        "Edit\n",
        "import seaborn as sns\n",
        "import plotly.express as px\n",
        "\n",
        "# Load Titanic dataset\n",
        "titanic = sns.load_dataset(\"titanic\")\n",
        "\n",
        "# Scatter plot using Plotly\n",
        "fig = px.scatter(titanic, x=\"age\", y=\"fare\", title=\"Age vs Fare (Titanic Dataset)\")\n",
        "fig.show()\n",
        "✅ Q2. Box plot using Tips dataset in Plotly\n",
        "python\n",
        "Copy\n",
        "Edit\n",
        "# Load Tips dataset from Plotly\n",
        "df = px.data.tips()\n",
        "\n",
        "# Box plot\n",
        "fig = px.box(df, x=\"day\", y=\"total_bill\", title=\"Box Plot of Total Bill by Day\")\n",
        "fig.show()\n",
        "✅ Q3. Histogram using Tips dataset with sex, smoker (pattern), and day (color)\n",
        "python\n",
        "Copy\n",
        "Edit\n",
        "# Histogram\n",
        "fig = px.histogram(\n",
        "    df,\n",
        "    x=\"sex\",\n",
        "    y=\"total_bill\",\n",
        "    color=\"day\",\n",
        "    pattern_shape=\"smoker\",\n",
        "    title=\"Histogram of Total Bill by Sex, Day, and Smoker Status\"\n",
        ")\n",
        "fig.show()\n",
        "✅ Q4. Scatter matrix using Iris dataset\n",
        "python\n",
        "Copy\n",
        "Edit\n",
        "# Load Iris dataset\n",
        "iris = px.data.iris()\n",
        "\n",
        "# Scatter matrix\n",
        "fig = px.scatter_matrix(\n",
        "    iris,\n",
        "    dimensions=[\"sepal_length\", \"sepal_width\", \"petal_length\", \"petal_width\"],\n",
        "    color=\"species\",\n",
        "    title=\"Iris Dataset - Scatter Matrix\"\n",
        ")\n",
        "fig.show()\n",
        "✅ Q5. What is a Distplot?\n",
        "Explanation:\n",
        "\n",
        "A Distplot (distribution plot) visualizes the distribution of a dataset using a histogram or KDE (Kernel Density Estimation).\n",
        "\n",
        "Plotly Express does not have distplot directly — it's available in Plotly Graph Objects or through histogram + KDE overlay.\n",
        "\n",
        "Using Plotly Express to mimic a distplot:\n",
        "\n",
        "python\n",
        "Copy\n",
        "Edit\n",
        "# Distribution of total_bill\n",
        "fig = px.histogram(df, x=\"total_bill\", nbins=30, marginal=\"violin\", title=\"Distribution of Total Bill\")\n",
        "fig.show()\n",
        "You can also use marginal=\"box\" or marginal=\"rug\" to enhance the histogram like a distplot."
      ],
      "metadata": {
        "id": "LKGGYAWeGPwO"
      }
    }
  ]
}