{
  "nbformat": 4,
  "nbformat_minor": 0,
  "metadata": {
    "colab": {
      "provenance": []
    },
    "kernelspec": {
      "name": "python3",
      "display_name": "Python 3"
    },
    "language_info": {
      "name": "python"
    }
  },
  "cells": [
    {
      "cell_type": "code",
      "execution_count": null,
      "metadata": {
        "id": "Jrxv8jiLOGq2"
      },
      "outputs": [],
      "source": []
    },
    {
      "cell_type": "markdown",
      "source": [
        "1. mean,median and mode\n",
        "2.The mean, median, and mode are all measures of central tendency, which tells you where the \"center\" of your data is located. They each have their strengths and weaknesses, and the best choice for your situation depends on the characteristics of your data.\n",
        "\n",
        "Here's a breakdown of each:\n",
        "\n",
        "Mean: Also known as the average, the mean is calculated by adding all the values in your dataset and then dividing by the number of values. It's a good general measure of central tendency, but it can be sensitive to outliers (extreme values) that can skew the average significantly.\n",
        "\n",
        "Median: The median is the middle value when your data is arranged in ascending or descending order. If you have an even number of values, the median is the average of the two middle values. The median is less sensitive to outliers than the mean, making it a good choice when your data might have extreme values.\n",
        "\n",
        "Mode: The mode is the most frequent value in your dataset. It can be useful for identifying the most common value, but it doesn't necessarily represent the center of the data. There can also be multiple modes in a dataset (bimodal or multimodal)."
      ],
      "metadata": {
        "id": "wvbFjVNzOH26"
      }
    },
    {
      "cell_type": "code",
      "source": [
        "#3.\n",
        "dataset = [178,177,176,177,178.2,178,175,179,180,175,178.9,176.2,177,172.5,178,176.5]\n",
        "import numpy as np\n",
        "np.mean(dataset)"
      ],
      "metadata": {
        "colab": {
          "base_uri": "https://localhost:8080/"
        },
        "id": "q5vH4qARO0sJ",
        "outputId": "8f724ae1-6ebe-49c4-9d6e-4ee36f54e007"
      },
      "execution_count": 1,
      "outputs": [
        {
          "output_type": "execute_result",
          "data": {
            "text/plain": [
              "177.01875"
            ]
          },
          "metadata": {},
          "execution_count": 1
        }
      ]
    },
    {
      "cell_type": "code",
      "source": [
        "#3.\n",
        "np.median(dataset)"
      ],
      "metadata": {
        "colab": {
          "base_uri": "https://localhost:8080/"
        },
        "id": "Y5V3hiZsPHLw",
        "outputId": "66e2373c-d93a-4fcf-832d-6b1c85dd08b4"
      },
      "execution_count": 2,
      "outputs": [
        {
          "output_type": "execute_result",
          "data": {
            "text/plain": [
              "177.0"
            ]
          },
          "metadata": {},
          "execution_count": 2
        }
      ]
    },
    {
      "cell_type": "code",
      "source": [
        "#3.\n",
        "from scipy import stats\n",
        "stats.mode(dataset)"
      ],
      "metadata": {
        "colab": {
          "base_uri": "https://localhost:8080/"
        },
        "id": "xHnz4v48PMPV",
        "outputId": "3238e66e-8503-4d12-8652-52acb91af60d"
      },
      "execution_count": 3,
      "outputs": [
        {
          "output_type": "execute_result",
          "data": {
            "text/plain": [
              "ModeResult(mode=177.0, count=3)"
            ]
          },
          "metadata": {},
          "execution_count": 3
        }
      ]
    },
    {
      "cell_type": "code",
      "source": [
        "#4.\n",
        "np.std(dataset)"
      ],
      "metadata": {
        "colab": {
          "base_uri": "https://localhost:8080/"
        },
        "id": "S8OtvZfoPa5j",
        "outputId": "339888f8-9fce-44b9-f63f-e8ab8d7189f9"
      },
      "execution_count": 4,
      "outputs": [
        {
          "output_type": "execute_result",
          "data": {
            "text/plain": [
              "1.7885814036548633"
            ]
          },
          "metadata": {},
          "execution_count": 4
        }
      ]
    },
    {
      "cell_type": "code",
      "source": [],
      "metadata": {
        "id": "Y47cZDTcQOZb"
      },
      "execution_count": null,
      "outputs": []
    },
    {
      "cell_type": "markdown",
      "source": [
        "5.Measures of Dispersion: Range, Variance, and Standard Deviation\n",
        "Measures of dispersion, unlike measures of central tendency (mean, median, mode), tell you how spread out the data points are in a dataset. These measures help understand the variability within the data. Here's a breakdown of three common measures:\n",
        "\n",
        "1. Range:\n",
        "\n",
        "Definition: The simplest measure of dispersion. It's the difference between the highest and lowest values in the dataset.\n",
        "Calculation: Range = Maximum value - Minimum value\n",
        "Interpretation: A larger range indicates a wider spread of data points, while a smaller range suggests the data is more clustered around the central tendency.\n",
        "2. Variance:\n",
        "\n",
        "Definition: Measures the average squared deviation of each data point from the mean. It represents how much, on average, the data points vary from the mean.\n",
        "Calculation: Variance = Σ(x_i - μ)² / N (where Σ denotes summation, x_i is an individual data point, μ is the mean, and N is the total number of data points).\n",
        "Interpretation: A higher variance indicates the data points are further away from the mean on average, signifying a larger spread. A lower variance suggests the data points are closer to the mean. However, variance is measured in the squared units of the data, making interpretation a bit less intuitive.\n",
        "3. Standard Deviation (SD):\n",
        "\n",
        "Definition: The square root of the variance. It expresses the spread of data in the same units as the original data, making it easier to interpret compared to variance.\n",
        "Calculation: Standard Deviation (SD) = √(Variance)\n",
        "Interpretation: Similar to variance, a higher SD indicates a larger spread of data points from the mean, while a lower SD suggests the data is more clustered around the mean.\n",
        "Example:\n",
        "\n",
        "Consider a dataset of exam scores (out of 100): {80, 90, 75, 100, 85}\n",
        "\n",
        "Range: 100 - 75 = 25\n",
        "Variance: [(80-88)^2 + (90-88)^2 + (75-88)^2 + (100-88)^2 + (85-88)^2] / 5 = 325 / 5 = 65\n",
        "Standard Deviation: √(65) ≈ 8.1\n",
        "While the range tells us the spread is 25 points, the standard deviation (8.1) gives a more nuanced picture in the same units (scores) as the data. It suggests most scores deviate from the average (88) by around 8 points"
      ],
      "metadata": {
        "id": "sO9l0Rh7QPRf"
      }
    },
    {
      "cell_type": "markdown",
      "source": [
        "6.Venn Diagram\n",
        "A Venn diagram is a visual representation of relationships between sets. It uses overlapping circles to depict how elements can belong to one, both, or none of the sets being compared.\n",
        "\n",
        "Here's a basic example with two sets:\n",
        "\n",
        "Set A: People who like cats\n",
        "Set B: People who like dogs\n",
        "[asy]\n",
        "unitsize(0.4 cm);\n",
        "\n",
        "pair A, B, O;\n",
        "\n",
        "A = (1,0);\n",
        "B = (-1,0);\n",
        "O = (0,0);\n",
        "\n",
        "draw(Circle(O,1));\n",
        "draw(Circle(A,1));\n",
        "draw(Circle(B,1));\n",
        "\n",
        "label(\"A\", A, S);\n",
        "label(\"B\", B, S);\n",
        "[/asy]\n",
        "\n",
        "The shaded area in the center represents people who like both cats and dogs. The areas outside the circles but within the larger circle represent people who like only cats (on the left) or only dogs (on the right). The region outside the entire diagram represents people who like neither cats nor dogs.\n",
        "\n",
        "Venn diagrams can be extended to represent three or more sets using additional overlapping circles. They are a helpful tool for understanding set relationships and data classification."
      ],
      "metadata": {
        "id": "eA5kLjPKQR9i"
      }
    },
    {
      "cell_type": "markdown",
      "source": [
        "7.For the two given sets A = (2,3,4,5,6,7) & B = (0,2,6,8,10). Find:\n",
        "(i) A B\n",
        "(ii) A ⋃ B\n",
        "1. 2,6\n",
        "2.0,2,3,4,5,6,7,8,10"
      ],
      "metadata": {
        "id": "wbLObuL3Qa0R"
      }
    },
    {
      "cell_type": "markdown",
      "source": [
        "8.Skewness in Data (Q8)\n",
        "Skewness refers to the asymmetry of a probability distribution. A perfectly symmetrical distribution, like a normal distribution (bell curve), has a skewness of zero. When a distribution is skewed, it leans to one side, either:\n",
        "\n",
        "Right-skewed: The tail of the distribution extends further to the right, with more data points concentrated on the left side and fewer on the right (e.g., income distribution, exam scores).\n",
        "Left-skewed: The tail extends further to the left, with more data points on the right side and fewer on the left (e.g., waiting times, response times).\n",
        "Skewness helps us understand how data deviates from symmetry and can be important for choosing appropriate statistical methods."
      ],
      "metadata": {
        "id": "2n9iQgX8Qbhm"
      }
    },
    {
      "cell_type": "code",
      "source": [
        "9.In a right-skewed distribution, the median will be less than the mean. This is because the mean is pulled towards the tail by the larger values on the right. The median, representing the middle value, is less affected by these outliers and provides a more robust measure of central tendency for skewed data."
      ],
      "metadata": {
        "id": "_BhTiJAQRKi0"
      },
      "execution_count": null,
      "outputs": []
    },
    {
      "cell_type": "markdown",
      "source": [
        "10.Covariance and correlation both measure the linear relationship between two variables. However, they differ in the following ways:\n",
        "\n",
        "Covariance: Measured in the units of the product of the two variables. It indicates the direction (positive or negative) and strength of the linear relationship. A positive covariance suggests the variables tend to move in the same direction, while a negative covariance suggests they move in opposite directions.\n",
        "Correlation: A standardized version of covariance, ranging from -1 to +1. It represents the strength and direction of the linear relationship independent of the units of the variables. A correlation of 1 indicates a perfect positive linear relationship, -1 indicates a perfect negative linear relationship, and 0 indicates no linear relationship.\n",
        "Both covariance and correlation are used in statistical analysis to:\n",
        "\n",
        "Identify potential relationships between variables: A non-zero covariance or correlation suggests a possible association, but it doesn't necessarily imply causation.\n",
        "Assess the strength of the relationship: The absolute value of the correlation coefficient indicates the strength of the association.\n",
        "Compare relationships across different datasets: Since correlation is unitless, it allows for easier comparison of relationships between variables measured in different units."
      ],
      "metadata": {
        "id": "ChED4B-2RYXF"
      }
    },
    {
      "cell_type": "markdown",
      "source": [
        "11.The formula for calculating the sample mean (average) is:\n",
        "\n",
        "Mean (μ) = Σ(x_i) / N\n",
        "where:\n",
        "\n",
        "Σ (sigma) denotes summation.\n",
        "x_i represents an individual data point in the dataset.\n",
        "N is the total number of data points.\n",
        "Example:\n",
        "\n",
        "Consider a dataset of daily temperatures: {18, 20, 22, 21, 25}\n",
        "\n",
        "Mean = (18 + 20 + 22 + 21 + 25) / 5 = 21.2°C"
      ],
      "metadata": {
        "id": "_H2fNPNPSFPS"
      }
    },
    {
      "cell_type": "markdown",
      "source": [
        "12.In a normal distribution (bell curve), the measures of central tendency (mean, median, and mode) are all equal. This is because the distribution is symmetrical, and the \"center\" of the data falls at the same point."
      ],
      "metadata": {
        "id": "jZtbM1WCSXTI"
      }
    },
    {
      "cell_type": "markdown",
      "source": [
        " (Q13)\n",
        "Covariance and correlation are related but not identical. Here's an analogy:\n",
        "\n",
        "Covariance: Imagine two people walking with random step sizes (positive or negative). Covariance tells you if they tend to take steps in the same direction (positive covariance) or opposite directions (negative covariance). However, it doesn't tell you how similar their step sizes are in magnitude.\n",
        "Correlation: Now, consider their step sizes relative to their average step size. Correlation tells you how closely their relative step sizes are related. A correlation of 1 indicates they always take steps in the same direction relative to their averages, while -1 indicates they always take steps in opposite directions relative to their averages."
      ],
      "metadata": {
        "id": "1ij3jGERTLxL"
      }
    },
    {
      "cell_type": "markdown",
      "source": [
        "14.Outliers (extreme values) can significantly affect measures of central tendency and dispersion:\n",
        "\n",
        "Mean: Outliers can significantly pull the mean towards their value. In a right-skewed distribution with a high outlier, the mean might overestimate the \"center\" of the data compared to the median.\n",
        "Median: Less affected by outliers as it represents the middle value. In a right-skewed distribution with a high outlier, the median provides a more accurate picture of the central tendency.\n",
        "Range: Outliers can inflate the range, making the spread seem larger than it is for the majority of the data points.\n",
        "Variance and Standard Deviation: Sensitive to outliers as they square"
      ],
      "metadata": {
        "id": "YoZgaF-vTNwc"
      }
    }
  ]
}