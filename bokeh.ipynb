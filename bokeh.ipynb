{
  "nbformat": 4,
  "nbformat_minor": 0,
  "metadata": {
    "colab": {
      "provenance": [],
      "authorship_tag": "ABX9TyOO5uoh+ki1i1FGjRBYYXr/",
      "include_colab_link": true
    },
    "kernelspec": {
      "name": "python3",
      "display_name": "Python 3"
    },
    "language_info": {
      "name": "python"
    }
  },
  "cells": [
    {
      "cell_type": "markdown",
      "metadata": {
        "id": "view-in-github",
        "colab_type": "text"
      },
      "source": [
        "<a href=\"https://colab.research.google.com/github/golu628/assignment/blob/main/bokeh.ipynb\" target=\"_parent\"><img src=\"https://colab.research.google.com/assets/colab-badge.svg\" alt=\"Open In Colab\"/></a>"
      ]
    },
    {
      "cell_type": "code",
      "execution_count": null,
      "metadata": {
        "id": "WRiviL5XV0_d"
      },
      "outputs": [],
      "source": []
    },
    {
      "cell_type": "markdown",
      "source": [
        "Q1. How can you create a Bokeh plot using Python code?\n",
        "\n",
        "Here's a step-by-step guide to creating a Bokeh plot using Python code:\n",
        "\n",
        "Import necessary libraries:\n",
        "\n",
        "Python\n",
        "from bokeh.plotting import figure, show\n",
        "Use code with caution.\n",
        "content_copy\n",
        "Prepare your data:\n",
        "\n",
        "Create lists or NumPy arrays containing the data you want to visualize.\n",
        "\n",
        "Create a Bokeh figure:\n",
        "\n",
        "Python\n",
        "p = figure(title=\"My Plot\", x_axis_label=\"X-Axis\", y_axis_label=\"Y-Axis\")\n",
        "Use code with caution.\n",
        "content_copy\n",
        "title: Sets the plot title (optional).\n",
        "x_axis_label: Labels the X-axis (optional).\n",
        "y_axis_label: Labels the Y-axis (optional).\n",
        "Add glyphs to the plot:\n",
        "\n",
        "Use appropriate Bokeh functions like p.line(), p.circle(), p.vbar(), etc., depending on the type of visualization you want to create. Pass your data to these functions.\n",
        "\n",
        "Example (line plot):\n",
        "\n",
        "Python\n",
        "x = [1, 2, 3, 4, 5]\n",
        "y = [4, 6, 5, 8, 2]\n",
        "\n",
        "p.line(x, y, line_width=2, color=\"blue\")  # Customize line width and color\n",
        "Use code with caution.\n",
        "content_copy\n",
        "Customize the plot (optional):\n",
        "\n",
        "Use methods like p.xaxis.axis_label, p.yaxis.axis_label, p.grid.grid_line_color, etc., to adjust axis labels, grid lines, and more.\n",
        "Explore the Bokeh documentation for various customization options.\n",
        "Show the plot:\n",
        "\n",
        "Python\n",
        "show(p)\n",
        "Use code with caution.\n",
        "content_copy\n",
        "This will display your Bokeh plot in a new window.\n",
        "\n",
        "Q2. What are glyphs in Bokeh, and how can you add them to a Bokeh plot? Explain with an example.\n",
        "\n",
        "Glyphs are the visual building blocks that represent data points in a Bokeh plot. Different glyph functions create different shapes, such as circles, lines, squares, bars, etc.\n",
        "\n",
        "Here's an example of adding a scatter plot using the p.circle() glyph:\n",
        "\n",
        "Python\n",
        "x = [1, 2, 3, 4, 5]\n",
        "y = [4, 6, 5, 8, 2]\n",
        "\n",
        "p = figure(title=\"Scatter Plot\")\n",
        "p.circle(x, y, size=10, color=\"green\", alpha=0.7)  # Customize size, color, and transparency\n",
        "show(p)\n",
        "Use code with caution.\n",
        "content_copy\n",
        "x, y: Data lists for X and Y coordinates.\n",
        "size: Size of the circles (in pixels).\n",
        "color: Fill color of the circles.\n",
        "alpha: Transparency of the circles (0 for fully transparent, 1 for fully opaque).\n",
        "Q3. How can you customize the appearance of a Bokeh plot, including the axes, title, and legend?\n",
        "\n",
        "Bokeh provides various methods to customize the appearance of your plots:\n",
        "\n",
        "Axes:\n",
        "\n",
        "p.xaxis.axis_label: Set the X-axis label.\n",
        "p.yaxis.axis_label: Set the Y-axis label.\n",
        "p.xaxis.major_tick_line_color: Change major tick line color.\n",
        "Explore more options in the Bokeh documentation.\n",
        "Title:\n",
        "\n",
        "p.title.text: Set the plot title.\n",
        "p.title.align: Align the title (e.g., \"left\", \"center\", \"right\").\n",
        "Legend:\n",
        "\n",
        "Create a Legend object and add desired renderers (lines, circles, etc.).\n",
        "Refer to the Bokeh documentation for detailed legend creation.\n",
        "Q4. What is a Bokeh server, and how can you use it to create interactive plots that can be updated in real time?\n",
        "\n",
        "The Bokeh server is a web application that allows you to create interactive plots that can be updated in real time. Users can interact with these plots through web browsers, using tools like zooming, panning, selecting data points, and more."
      ],
      "metadata": {
        "id": "_aZzNK0-V57x"
      }
    }
  ]
}