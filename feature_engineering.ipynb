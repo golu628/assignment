{
  "nbformat": 4,
  "nbformat_minor": 0,
  "metadata": {
    "colab": {
      "provenance": [],
      "authorship_tag": "ABX9TyPG6kqbjvvCvASYjp8IqSAx",
      "include_colab_link": true
    },
    "kernelspec": {
      "name": "python3",
      "display_name": "Python 3"
    },
    "language_info": {
      "name": "python"
    }
  },
  "cells": [
    {
      "cell_type": "markdown",
      "metadata": {
        "id": "view-in-github",
        "colab_type": "text"
      },
      "source": [
        "<a href=\"https://colab.research.google.com/github/golu628/assignment/blob/main/feature_engineering.ipynb\" target=\"_parent\"><img src=\"https://colab.research.google.com/assets/colab-badge.svg\" alt=\"Open In Colab\"/></a>"
      ]
    },
    {
      "cell_type": "markdown",
      "source": [
        "1. Data Encoding and its Usefulness\n",
        "\n",
        "Data encoding is the process of converting categorical data (data with labels or names) into a numerical format that machine learning algorithms can understand. It allows algorithms to identify patterns and relationships within the data. Encoding helps improve the accuracy and efficiency of machine learning models.\n",
        "2.Nominal encoding assigns a unique numerical value to each category in a categorical variable. There's no inherent order to these values.\n",
        "\n",
        "Example:\n",
        "\n",
        "Categorical variable: Eye Color (Blue, Brown, Green)\n",
        "Nominal Encoding: Blue -> 1, Brown -> 2, Green -> 3\n",
        "3.Use nominal encoding when the number of categories is small and the order doesn't matter. One-hot encoding is preferred when there are many categories or the order might be important.\n",
        "\n",
        "Example:\n",
        "\n",
        "Categorical variable: Shirt Size (S, M, L, XL)\n",
        "Nominal encoding might be suitable here (S -> 1, M -> 2, L -> 3, XL -> 4) since size doesn't necessarily imply order (M isn't \"better\" than S).\n",
        "4.Encoding Technique for 5 Unique Values\n",
        "\n",
        "For 5 unique categories, nominal encoding is a good choice. It's simpler to implement and avoids creating too many new features compared to one-hot encoding.\n",
        "5.If you have 2 categorical columns with K categories each, nominal encoding creates 2K new columns.\n",
        "\n",
        "Calculation:\n",
        "\n",
        "Each categorical column gets K new columns (one for each category). So, for 2 columns, you'd have 2 * K new columns.\n",
        "6.Nominal encoding is suitable for species and habitat (assuming no inherent order). You could use one-hot encoding for diet (if many options exist) to capture presence/absence of different food types.\n",
        "7.Encoding for Customer Churn Prediction\n",
        "\n",
        "Gender: Encode as binary (0 for female, 1 for male).\n",
        "Age: No encoding needed (numerical already).\n",
        "Contract Type: Nominal encoding (e.g., Basic -> 1, Premium -> 2).\n",
        "Monthly Charges: No encoding needed (numerical already).\n",
        "Tenure: No encoding needed (numerical already).\n",
        "This approach preserves the numerical nature of age, monthly charges, and tenure while converting the categorical variables into a format usable by machine learning models."
      ],
      "metadata": {
        "id": "_xcde-tq1G6b"
      }
    }
  ]
}