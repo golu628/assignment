{
  "nbformat": 4,
  "nbformat_minor": 0,
  "metadata": {
    "colab": {
      "provenance": []
    },
    "kernelspec": {
      "name": "python3",
      "display_name": "Python 3"
    },
    "language_info": {
      "name": "python"
    }
  },
  "cells": [
    {
      "cell_type": "code",
      "execution_count": null,
      "metadata": {
        "id": "44_CFg8Zp_d_"
      },
      "outputs": [],
      "source": []
    },
    {
      "cell_type": "markdown",
      "source": [
        "Q1. Artificial Intelligence (AI), Machine Learning (ML), and Deep Learning (DL) are all interrelated fields within computer science:\n",
        "\n",
        "Artificial Intelligence (AI): The broader field encompassing the creation of intelligent agents, which are systems that can reason, learn, and act autonomously. ML and DL are techniques used to achieve AI.\n",
        "Machine Learning (ML): A subfield of AI that focuses on algorithms that can learn from data without being explicitly programmed. ML algorithms improve their performance over time by identifying patterns and making data-driven predictions.\n",
        "Deep Learning (DL): A subfield of ML inspired by the structure and function of the human brain. DL utilizes artificial neural networks with multiple layers to process complex data, such as images, text, and speech.\n",
        "Q2. Supervised Learning:\n",
        "\n",
        "Supervised learning involves training a model using labeled data, where each data point has a corresponding output value (label). The model learns the relationship between inputs and outputs and can then be used to predict the output for new, unseen data.\n",
        "\n",
        "Examples of Supervised Learning:\n",
        "\n",
        "Classification: Predicting a category (e.g., spam or not spam for emails, cat or dog for images)\n",
        "Regression: Predicting a continuous value (e.g., stock prices, housing prices)\n",
        "Q3. Unsupervised Learning:\n",
        "\n",
        "Unsupervised learning deals with unlabeled data, where the data points lack predefined labels or categories. The goal is to uncover hidden patterns or structures within the data.\n",
        "\n",
        "Examples of Unsupervised Learning:\n",
        "\n",
        "Clustering: Grouping data points that share similar characteristics (e.g., customer segmentation)\n",
        "Dimensionality Reduction: Simplifying complex data by reducing the number of features while preserving essential information (e.g., image compression)\n",
        "Anomaly Detection: Identifying data points that deviate significantly from the expected patterns (e.g., fraud detection in financial transactions)\n",
        "Q4. Key Differences between AI, ML, DL, and Data Science:\n",
        "\n",
        "Field\tDescription\n",
        "Artificial Intelligence (AI)\tBroad field of creating intelligent agents that can reason, learn, and act autonomously.\n",
        "Machine Learning (ML)\tSubfield of AI that focuses on algorithms that can learn from data without explicit programming.\n",
        "Deep Learning (DL)\tSubfield of ML that utilizes artificial neural networks to process complex data, often inspired by the human brain.\n",
        "Data Science (DS)\tInterdisciplinary field that involves collecting, cleaning, analyzing, and interpreting data to extract knowledge and insights. It can leverage techniques from ML, statistics, and other domains.\n",
        "Q5. Supervised vs. Unsupervised vs. Semi-Supervised Learning:\n",
        "\n",
        "Learning Type\tData Type\tGoal\tExamples\n",
        "Supervised Learning\tLabeled\tLearn the relationship between inputs and outputs\tClassification (spam filtering), Regression (sales forecasting)\n",
        "Unsupervised Learning\tUnlabeled\tDiscover hidden patterns or structures in data\tClustering (customer segmentation), Dimensionality reduction (image compression)\n",
        "Semi-Supervised Learning\tMixed (mostly unlabeled, some labeled)\tLeverage labeled data to improve learning on unlabeled data\tSentiment analysis (using a small amount of labeled data to improve classification on a large amount of unlabeled text)\n",
        "Q6. Train, Test, and Validation Split:\n",
        "\n",
        "In machine learning, it's crucial to split your data into three sets:\n",
        "\n",
        "Train Set: The majority of the data (typically 60-80%) used to train the model. The model learns patterns from this data.\n",
        "Test Set: A held-out portion of the data (usually 20-40%) used to evaluate the model's performance on unseen data. This helps assess how well the model generalizes to new data.\n",
        "Validation Set (Optional): Sometimes used to fine-tune hyperparameters (model settings) before evaluating on the final test set. It can help prevent overfitting, where the model performs well on the training data but poorly on unseen data.\n",
        "Importance of Each Term:\n",
        "\n",
        "Train Set: Provides the foundation for the model's learning.\n",
        "Test Set: Offers an unbiased assessment of the model's generalizability.\n",
        "Validation Set (Optional): Helps prevent overfitting and optimize hyperparameters.\n",
        "Q7. Unsupervised Learning for Anomaly Detection:\n",
        "\n",
        "Unsupervised learning is well-suited for anomaly detection because you often don't have labeled data for every possible anomaly. Here's\n",
        "\n",
        "\n",
        "\n",
        "\n"
      ],
      "metadata": {
        "id": "qkDYB4WBrtt1"
      }
    }
  ]
}