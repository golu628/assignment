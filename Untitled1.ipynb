{
 "cells": [
  {
   "cell_type": "raw",
   "id": "aebab434-e8e6-4e61-9ddc-c4b043bb3d8b",
   "metadata": {},
   "source": [
    "1. we comment in python by using #. The different types of comments are as follows:- 1.single line comments 2. multi-line comments.\n",
    "2. variables are location in memory that stores a value. for declaring a variable we simply assign value to a name like vaibhav  = '50'. here 50 has been assigned to variable vaibhav.\n",
    "3.In Python, we can convert one data type to another using built-in functions. Here are some of the most common conversion functions:\n",
    "\n",
    "int(): Converts a string or a floating-point number to an integer.\n",
    "float(): Converts a string or an integer to a floating-point number.\n",
    "str(): Converts any data type to a string.\n",
    "list(): Converts any data type to a list.\n",
    "tuple(): Converts any data type to a tuple.\n",
    "4.we can write any python script from command line by adding .py in commandline to execute in python.To execute a Python script from the command line, we need to have Python installed on our system and added to our PATH environment variable. This will allow us to run the python command from any directory. we also need to navigate to the directory where your script is located using the cd command. For example, if our script is in C:\\Users\\YourName\\Documents\\Python\\hello.py, you can type:\n",
    "\n",
    "cd C:\\Users\\YourName\\Documents\\Python\n",
    "Copy\n",
    "Then, we can run our script by typing:\n",
    "\n",
    "python hello.py\n",
    "Copy\n",
    "This will invoke the Python interpreter and execute the code in your script. You should see the output of your script in the command line window.\n",
    "5.my_list = [1,2,3,4,5]\n",
    "sub_list = my_list[1:3]\n",
    "print (sub_list)\n",
    "\n",
    "6.A complex number is a number that can be expressed as a sum of a real part and an imaginary part, where the imaginary part is a multiple of the square root of -1. For example, 3 + 4i is a complex number, where 3 is the real part and 4i is the imaginary part.\n",
    "n, which takes two arguments: the real part and the imaginary part. we can create the complex number 3 + 4i by using:\n",
    "z = complex(3, 4)\n",
    "7.we can declare and assign values to variables in Python by using the assignment operator (=), which assigns the value on the right to the name on the left. For example, we can declare a variable named age and assign the value 25 to it by using:\n",
    "age = 25\n",
    "8.price = 9.99 . this data type belong to float\n",
    "9.name = 'vaibhav pandey'\n",
    "print(name)\n",
    "10.greeting = \"Hello, World!\"\n",
    "    sub_greeting = greeting[7:12]\n",
    "     print(sub_greeting)\n",
    "11.is_student = True\n",
    "   print(is_student)"
   ]
  }
 ],
 "metadata": {
  "kernelspec": {
   "display_name": "Python 3 (ipykernel)",
   "language": "python",
   "name": "python3"
  },
  "language_info": {
   "codemirror_mode": {
    "name": "ipython",
    "version": 3
   },
   "file_extension": ".py",
   "mimetype": "text/x-python",
   "name": "python",
   "nbconvert_exporter": "python",
   "pygments_lexer": "ipython3",
   "version": "3.10.8"
  }
 },
 "nbformat": 4,
 "nbformat_minor": 5
}
