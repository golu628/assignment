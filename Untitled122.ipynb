{
  "nbformat": 4,
  "nbformat_minor": 0,
  "metadata": {
    "colab": {
      "provenance": [],
      "authorship_tag": "ABX9TyOuSkks2Yw2Gu9UCaJOOgDT",
      "include_colab_link": true
    },
    "kernelspec": {
      "name": "python3",
      "display_name": "Python 3"
    },
    "language_info": {
      "name": "python"
    }
  },
  "cells": [
    {
      "cell_type": "markdown",
      "metadata": {
        "id": "view-in-github",
        "colab_type": "text"
      },
      "source": [
        "<a href=\"https://colab.research.google.com/github/golu628/assignment/blob/main/Untitled122.ipynb\" target=\"_parent\"><img src=\"https://colab.research.google.com/assets/colab-badge.svg\" alt=\"Open In Colab\"/></a>"
      ]
    },
    {
      "cell_type": "code",
      "execution_count": null,
      "metadata": {
        "id": "kGtRqWNA_wFp"
      },
      "outputs": [],
      "source": []
    },
    {
      "cell_type": "markdown",
      "source": [
        " Q1. Vehicle class\n",
        "class Vehicle:\n",
        "    def __init__(self, name_of_vehicle, max_speed, average_of_vehicle):\n",
        "        self.name_of_vehicle = name_of_vehicle\n",
        "        self.max_speed = max_speed\n",
        "        self.average_of_vehicle = average_of_vehicle\n",
        "Q2. Car class inheriting from Vehicle\n",
        "class Car(Vehicle):\n",
        "    def seating_capacity(self, capacity):\n",
        "        return f\"The seating capacity of {self.name_of_vehicle} is {capacity}.\"\n",
        "\n",
        "Q3. Multiple Inheritance and demonstration\n",
        "\n",
        "\n",
        "class Engine:\n",
        "    def start(self):\n",
        "        return \"Engine started\"\n",
        "\n",
        "class Body:\n",
        "    def paint(self, color):\n",
        "        return f\"Body painted {color}\"\n",
        "\n",
        "class CarWithEngineAndBody(Engine, Body):  # Inherits from both Engine and Body\n",
        "    def __init__(self, name_of_vehicle, max_speed, average_of_vehicle):\n",
        "        Vehicle.__init__(self, name_of_vehicle, max_speed, average_of_vehicle) #needed for other initializations\n",
        "\n",
        "my_car = CarWithEngineAndBody(\"My Super Car\", 200, 20)\n",
        "print(my_car.start())  # Accessing method from Engine\n",
        "print(my_car.paint(\"red\")) # Accessing method from Body\n",
        "print(my_car.name_of_vehicle) # Accessing attribute from Vehicle through inheritance\n",
        "\n",
        "# Q4. Getters and Setters\n",
        "\n",
        "\n",
        "class Person:\n",
        "    def __init__(self, name, age):\n",
        "        self._name = name  # Using _ to indicate it's intended for internal use\n",
        "        self._age = age\n",
        "\n",
        "    def get_name(self):  # Getter for name\n",
        "        return self._name\n",
        "\n",
        "    def set_name(self, name):  # Setter for name\n",
        "        if not isinstance(name, str):\n",
        "            raise TypeError(\"Name must be a string\")\n",
        "        self._name = name\n",
        "\n",
        "    def get_age(self):\n",
        "        return self._age\n",
        "\n",
        "    def set_age(self, age):\n",
        "        if not isinstance(age, int) or age < 0:\n",
        "            raise ValueError(\"Age must be a non-negative integer\")\n",
        "        self._age = age\n",
        "\n",
        "\n",
        "person = Person(\"Alice\", 30)\n",
        "print(person.get_name())  # Accessing using getter\n",
        "person.set_name(\"Bob\")  # Modifying using setter\n",
        "print(person.get_name())\n",
        "\n",
        "try:\n",
        "    person.set_age(-5) #Demonstrates the error handling\n",
        "except ValueError as e:\n",
        "    print(e)\n",
        "\n",
        "\n",
        "\n",
        "# Q5. Method Overriding\n",
        "\n",
        "class Animal:\n",
        "    def make_sound(self):\n",
        "        return \"Generic animal sound\"\n",
        "\n",
        "class Dog(Animal):\n",
        "    def make_sound(self):  # Overriding the make_sound method\n",
        "        return \"Woof!\"\n",
        "\n",
        "class Cat(Animal):\n",
        "    def make_sound(self): # Overriding the make_sound method\n",
        "        return \"Meow!\"\n",
        "\n",
        "animal = Animal()\n",
        "dog = Dog()\n",
        "cat = Cat()\n",
        "\n",
        "print(animal.make_sound())  # Output: Generic animal sound\n",
        "print(dog.make_sound())  # Output: Woof! (Overridden)\n",
        "print(cat.make_sound())  # Output: Meow! (Overridden)"
      ],
      "metadata": {
        "id": "VkvLDwt2_wkU"
      }
    }
  ]
}