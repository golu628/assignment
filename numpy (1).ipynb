{
  "nbformat": 4,
  "nbformat_minor": 0,
  "metadata": {
    "colab": {
      "provenance": []
    },
    "kernelspec": {
      "name": "python3",
      "display_name": "Python 3"
    },
    "language_info": {
      "name": "python"
    }
  },
  "cells": [
    {
      "cell_type": "code",
      "execution_count": 2,
      "metadata": {
        "id": "DVTvO0G15kZF"
      },
      "outputs": [],
      "source": [
        "\n",
        "import numpy as np\n",
        "list_ = ['1', '2', '3', '4', '5']\n",
        "array_list = np.array(object=list_)"
      ]
    },
    {
      "cell_type": "markdown",
      "source": [
        "1.es, there is a difference in the data types of list_ and array_list. Here, list_ is a Python list, while array_list is a numpy array.\n",
        "\n",
        "Here’s a simple Python code snippet that prints the data types of both variables:\n",
        "\n",
        "Python\n",
        "\n",
        "def print_data_types(list_, array_list):\n",
        "    print(f\"The data type of list_ is: {type(list_)}\")\n",
        "    print(f\"The data type of array_list is: {type(array_list)}\")\n",
        "\n",
        "# Example usage:\n",
        "import numpy as np\n",
        "\n",
        "list_ = ['1', '2', '3', '4', '5']\n",
        "array_list = np.array(object = list_)\n",
        "\n",
        "print_data_types(list_, array_list)\n",
        "AI-generated code. Review and use carefully. More info on FAQ.\n",
        "This code will output something like:\n",
        "\n",
        "The data type of list_ is: <class 'list'>\n",
        "The data type of array_list is: <class 'numpy.ndarray'>\n",
        "\n",
        "This indicates that list_ is a built-in Python list, and array_list is a numpy array. Please replace list_ and array_list with your actual variables and run the function. It will print the data types of your variables. Remember to import the necessary libraries if needed."
      ],
      "metadata": {
        "id": "wd7WGHdQ8jxs"
      }
    },
    {
      "cell_type": "code",
      "source": [
        "#3.\n",
        "def print_element_data_types(list_, array_list):\n",
        "    print(\"Data types of elements in list_:\")\n",
        "    for element in list_:\n",
        "        print(f\"{element}: {type(element)}\")\n",
        "\n",
        "    print(\"\\nData types of elements in array_list:\")\n",
        "    for element in array_list:\n",
        "        print(f\"{element}: {type(element)}\")\n",
        "\n",
        "# Example usage:\n",
        "import numpy as np\n",
        "\n",
        "list_ = ['1', '2', '3', '4', '5']\n",
        "array_list = np.array(object = list_)\n",
        "\n",
        "print_element_data_types(list_, array_list)\n"
      ],
      "metadata": {
        "colab": {
          "base_uri": "https://localhost:8080/"
        },
        "id": "uoVZnur99dCo",
        "outputId": "2e1951eb-00b6-466c-c632-28cf5cddb21b"
      },
      "execution_count": 3,
      "outputs": [
        {
          "output_type": "stream",
          "name": "stdout",
          "text": [
            "Data types of elements in list_:\n",
            "1: <class 'str'>\n",
            "2: <class 'str'>\n",
            "3: <class 'str'>\n",
            "4: <class 'str'>\n",
            "5: <class 'str'>\n",
            "\n",
            "Data types of elements in array_list:\n",
            "1: <class 'numpy.str_'>\n",
            "2: <class 'numpy.str_'>\n",
            "3: <class 'numpy.str_'>\n",
            "4: <class 'numpy.str_'>\n",
            "5: <class 'numpy.str_'>\n"
          ]
        }
      ]
    },
    {
      "cell_type": "markdown",
      "source": [
        "4. 1. arr.shape\n",
        "   2. arr.size\n",
        "\n",
        "5.data = np.random.randit(0,1(3,3))\n",
        "\n",
        "\n",
        "6.data1 = np.diag([1,1,1,1])"
      ],
      "metadata": {
        "id": "BFGwq6_I9qE7"
      }
    }
  ]
}