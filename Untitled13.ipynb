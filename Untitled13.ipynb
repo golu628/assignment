{
  "nbformat": 4,
  "nbformat_minor": 0,
  "metadata": {
    "colab": {
      "provenance": [],
      "authorship_tag": "ABX9TyPh85rZ4xP9j90EY1bFPPyG",
      "include_colab_link": true
    },
    "kernelspec": {
      "name": "python3",
      "display_name": "Python 3"
    },
    "language_info": {
      "name": "python"
    }
  },
  "cells": [
    {
      "cell_type": "markdown",
      "metadata": {
        "id": "view-in-github",
        "colab_type": "text"
      },
      "source": [
        "<a href=\"https://colab.research.google.com/github/golu628/assignment/blob/main/Untitled13.ipynb\" target=\"_parent\"><img src=\"https://colab.research.google.com/assets/colab-badge.svg\" alt=\"Open In Colab\"/></a>"
      ]
    },
    {
      "cell_type": "code",
      "execution_count": 2,
      "metadata": {
        "colab": {
          "base_uri": "https://localhost:8080/"
        },
        "id": "O4kKUlLBTwbm",
        "outputId": "5126e8f8-7250-4d8b-f000-6b92e3f3bf8b"
      },
      "outputs": [
        {
          "output_type": "stream",
          "name": "stdout",
          "text": [
            "0     4\n",
            "1     8\n",
            "2    15\n",
            "3    16\n",
            "4    23\n",
            "5    42\n",
            "dtype: int64\n"
          ]
        }
      ],
      "source": [
        "#1.\n",
        "import pandas as pd\n",
        "\n",
        "# Create a list of data\n",
        "data = [4, 8, 15, 16, 23, 42]\n",
        "\n",
        "# Create a Pandas Series from the data\n",
        "series = pd.Series(data)\n",
        "\n",
        "# Print the Series\n",
        "print(series)"
      ]
    },
    {
      "cell_type": "code",
      "source": [
        "#2.\n",
        "import pandas as pd\n",
        "\n",
        "# Create a list of 10 elements\n",
        "my_list = [1, 2, 3, 4, 5, 6, 7, 8, 9, 10]\n",
        "\n",
        "# Create a Pandas Series from the list\n",
        "series = pd.Series(my_list)\n",
        "\n",
        "# Print the Series\n",
        "print(series)\n"
      ],
      "metadata": {
        "colab": {
          "base_uri": "https://localhost:8080/"
        },
        "id": "IbwHa-9QVgF3",
        "outputId": "02ef73fe-34c5-41ff-bf44-f8b90dd8b456"
      },
      "execution_count": 6,
      "outputs": [
        {
          "output_type": "stream",
          "name": "stdout",
          "text": [
            "0     1\n",
            "1     2\n",
            "2     3\n",
            "3     4\n",
            "4     5\n",
            "5     6\n",
            "6     7\n",
            "7     8\n",
            "8     9\n",
            "9    10\n",
            "dtype: int64\n"
          ]
        }
      ]
    },
    {
      "cell_type": "code",
      "source": [
        "#3.\n",
        "import pandas as pd\n",
        "data = {\"name\":[\"alice\",\"bob\",\"clarie\"],\n",
        "        \"age\":[25,30,27],\n",
        "        \"gender\":[\"female\",\"male\",\"female\"]}\n",
        "df = pd.DataFrame(data)\n",
        "\n",
        "print(df)"
      ],
      "metadata": {
        "colab": {
          "base_uri": "https://localhost:8080/"
        },
        "id": "xz5nf9NHW29y",
        "outputId": "b2c2416f-3ea0-4433-d935-11bdfcfdccc4"
      },
      "execution_count": 11,
      "outputs": [
        {
          "output_type": "stream",
          "name": "stdout",
          "text": [
            "     name  age  gender\n",
            "0   alice   25  female\n",
            "1     bob   30    male\n",
            "2  clarie   27  female\n"
          ]
        }
      ]
    },
    {
      "cell_type": "markdown",
      "source": [
        "4.DataFrame:\n",
        "\n",
        "A two-dimensional labeled data structure with columns and rows, similar to a spreadsheet.\n",
        "Holds data of potentially different data types in each column.\n",
        "Useful for organizing and managing tabular data.\n",
        "Series:\n",
        "\n",
        "A one-dimensional labeled array, similar to a list.\n",
        "Holds data of a single data type.\n",
        "Useful for representing one-dimensional data or a single column of a DataFrame.\n",
        "Example:\n",
        "\n",
        "Python\n",
        "# Series (one-dimensional)\n",
        "name_series = pd.Series([\"Alice\", \"Bob\", \"Claire\"])\n",
        "\n",
        "# DataFrame (two-dimensional)\n",
        "data = {\n",
        "    \"Name\": name_series,\n",
        "    \"Age\": [25, 30, 27],\n",
        "    \"Gender\": [\"Female\", \"Male\", \"Female\"]\n",
        "}\n",
        "df = pd.DataFrame(data)\n",
        "\n",
        "print(name_series)  # Output: 0    Alice\n",
        "                         #          1       Bob\n",
        "                         #          2    Claire\n",
        "                         #          dtype: object\n",
        "\n",
        "print(df)  # Output:\n",
        "          #    Name  Age Gender\n",
        "          # 0  Alice   25  Female\n",
        "          # 1    Bob   30    Male\n",
        "          # 2  Claire   27  Female\n",
        "\n",
        "As we can see, the Series can only hold a single data type (strings in this case), while the DataFrame can accommodate different data types (strings, integers, etc.) in each column."
      ],
      "metadata": {
        "id": "7QJyMYX1abte"
      }
    },
    {
      "cell_type": "markdown",
      "source": [
        "5.Common Pandas DataFrame manipulation functions:\n",
        "\n",
        "Selecting Data:\n",
        "\n",
        "df.head(n): Returns the first n rows (default: 5).\n",
        "df.tail(n): Returns the last n rows (default: 5).\n",
        "df[column_name] or df[\"column_name\"]: Selects a specific column.\n",
        "df[condition]: Selects rows based on a condition (e.g., df[df[\"Age\"] > 25]).\n",
        "Example: Select the first two rows and the \"Age\" column.\n",
        "\n",
        "Python\n",
        "first_two_rows = df.head(2)\n",
        "age_column = df[\"Age\"]\n",
        "\n",
        "Sorting Data:\n",
        "\n",
        "df.sort_values(by=\"column_name\", ascending=True/False): Sorts by a specific column in ascending or descending order.\n",
        "Example: Sort the DataFrame by \"Age\" in ascending order.\n",
        "\n",
        "Python\n",
        "df_sorted_by_age = df.sort_values(by=\"Age\")\n",
        "\n",
        "Adding/Removing Data:\n",
        "\n",
        "df.loc[index, \"column_name\"] = value: Sets the value at a specific index and column.\n",
        "df.drop(index_label, axis=0/1): Removes a row (axis=0) or column (axis=1).\n",
        "Example: Add a new column named \"City\" and drop the \"Name\" column.\n",
        "\n",
        "Python\n",
        "df[\"City\"] = [\"New York\", \"London\", \"Paris\"]\n",
        "df = df.drop(\"Name\", axis=1)\n",
        "\n",
        "Descriptive Statistics:\n",
        "\n",
        "df.describe(): Shows summary statistics like mean, median, standard deviation, etc.\n",
        "Example: Get summary statistics for numerical columns."
      ],
      "metadata": {
        "id": "RYvkO9uIa6OD"
      }
    },
    {
      "cell_type": "markdown",
      "source": [
        "6.Out of the three options, DataFrame and Panel are mutable in nature, while Series is immutable in terms of size (length).\n",
        "\n",
        "Here's a breakdown:\n",
        "\n",
        "Series: While you can modify existing elements by accessing them directly (e.g., series[0] = 10), you cannot change the size of the Series (i.e., add or remove elements) using standard methods.\n",
        "DataFrame and Panel: Both DataFrames and Panels are mutable. You can:\n",
        "Modify existing elements (similar to Series).\n",
        "Add new columns/items using methods like df['new_column'] = ... or panel['new_item'] = ....\n",
        "Remove columns/items using methods like df.drop('column_name', axis=1) or panel.pop('item_name').\n",
        "Change the order of rows/items using methods like df.sort_values('column_name') or panel.transpose('items').\n",
        "Therefore, DataFrames and Panels offer greater flexibility in modifying their structure and data compared to Series."
      ],
      "metadata": {
        "id": "jNwG2hHFd60f"
      }
    },
    {
      "cell_type": "markdown",
      "source": [
        "7.Here's how to create a DataFrame using multiple Series:\n",
        "\n",
        "1. Create individual Series:\n",
        "\n",
        "Start by creating separate Series objects for each column you want in your DataFrame. Each Series will have an index that corresponds to the rows in the DataFrame.\n",
        "\n",
        "Python\n",
        "import pandas as pd\n",
        "\n",
        "# Create Series for different columns\n",
        "name_series = pd.Series([\"Alice\", \"Bob\", \"Claire\"])\n",
        "age_series = pd.Series([25, 30, 27])\n",
        "gender_series = pd.Series([\"Female\", \"Male\", \"Female\"])\n",
        "Use code with caution.\n",
        "2. Combine Series into a DataFrame:\n",
        "\n",
        "Use the pd.DataFrame constructor and pass a dictionary to it. The dictionary keys become the column names, and the values are the Series objects you want to include.\n",
        "\n",
        "Python\n",
        "# Combine Series into a DataFrame\n",
        "data = {\n",
        "    \"Name\": name_series,\n",
        "    \"Age\": age_series,\n",
        "    \"Gender\": gender_series\n",
        "}\n",
        "\n",
        "df = pd.DataFrame(data)\n",
        "Use code with caution.\n",
        "3. Print the DataFrame:\n",
        "\n",
        "Python\n",
        "print(df)\n",
        "Use code with caution.\n",
        "Output:\n",
        "\n",
        "   Name  Age Gender\n",
        "0  Alice   25  Female\n",
        "1    Bob   30    Male\n",
        "2  Claire   27  Female\n",
        "Explanation:\n",
        "\n",
        "We created individual Series for \"Name\", \"Age\", and \"Gender\".\n",
        "The dictionary data maps column names to their corresponding Series.\n",
        "The pd.DataFrame(data) constructor combines these Series into a DataFrame with those columns.\n",
        "This approach is useful when you have data coming from different sources or when you need to manipulate data before constructing the final DataFrame."
      ],
      "metadata": {
        "id": "MzqoaQn2eHFt"
      }
    }
  ]
}